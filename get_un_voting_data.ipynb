{
 "cells": [
  {
   "cell_type": "markdown",
   "id": "93d3157a-becc-4e0d-8a43-1568da875d0f",
   "metadata": {},
   "source": [
    "**TODO**\n",
    "* get rid of requests we don't use\n",
    "* annotate the code to explain what we're doing and why [tutorial!]\n",
    "* have to explain what broad categories we wanted to analyze and why\n",
    "    * clean up our doc about what categories we want to use and add it to the github, explain why we are only using certain [un] categories for now (most bang for our buck)"
   ]
  },
  {
   "cell_type": "code",
   "execution_count": 1,
   "id": "717d1d6d-d43c-4fc3-a3c6-1cb7ad1980ae",
   "metadata": {},
   "outputs": [],
   "source": [
    "import requests\n",
    "from bs4 import BeautifulSoup\n",
    "import numpy as np\n",
    "import pandas as pd\n",
    "import time\n",
    "\n",
    "\n",
    "import matplotlib.pyplot as plt\n",
    "import datetime\n",
    "import re"
   ]
  },
  {
   "cell_type": "code",
   "execution_count": 64,
   "id": "2eff6755-13cf-4fe3-a739-e9e2878a589e",
   "metadata": {},
   "outputs": [],
   "source": [
    "category_links_df = pd.read_csv('category-links.csv')\n",
    "category_links_df\n",
    "\n",
    "resolution_urls = list()\n",
    "visited_categories = []"
   ]
  },
  {
   "cell_type": "raw",
   "id": "f1cbbfec-b604-4ea4-b812-cf4858024b49",
   "metadata": {},
   "source": [
    "# get the initial website with the categories\n",
    "for cat, link in zip (category_links_df[\"un category\"], category_links_df[\"link\"]):\n",
    "    first_page = requests.get(link)\n",
    "    if first_page.status_code != 200:\n",
    "        raise Exception(\"Something went wrong loading category: \" + category + \", error code: \" + first_page.status_code)\n",
    "    \n",
    "    html = first_page.text\n",
    "    soup = BeautifulSoup(html, 'html.parser')\n",
    "    \n",
    "    page_count = "
   ]
  },
  {
   "cell_type": "code",
   "execution_count": 65,
   "id": "2dbc4ea5-2759-4d2f-bab8-334e94fd4a61",
   "metadata": {
    "scrolled": true,
    "tags": []
   },
   "outputs": [
    {
     "name": "stdout",
     "output_type": "stream",
     "text": [
      "0\n",
      "https://digitallibrary.un.org/search?ln=en&c=Voting+Data&jrec=51&fct__2=General+Assembly&fct__2=General+Assembly&cc=Voting+Data&fct__9=Vote&fct__9=Vote&fct__8=HUMAN+RIGHTS+ADVANCEMENT\n",
      "1\n",
      "https://digitallibrary.un.org/search?ln=en&c=Voting+Data&jrec=101&fct__2=General+Assembly&fct__2=General+Assembly&cc=Voting+Data&fct__9=Vote&fct__9=Vote&fct__8=HUMAN+RIGHTS+ADVANCEMENT\n",
      "2\n",
      "https://digitallibrary.un.org/search?ln=en&c=Voting+Data&jrec=151&fct__2=General+Assembly&fct__2=General+Assembly&cc=Voting+Data&fct__9=Vote&fct__9=Vote&fct__8=HUMAN+RIGHTS+ADVANCEMENT\n",
      "3\n",
      "https://digitallibrary.un.org/search?ln=en&c=Voting+Data&jrec=201&fct__2=General+Assembly&fct__2=General+Assembly&cc=Voting+Data&fct__9=Vote&fct__9=Vote&fct__8=HUMAN+RIGHTS+ADVANCEMENT\n"
     ]
    }
   ],
   "source": [
    "first_page = requests.get(category_links_df.iloc[0]['link'])\n",
    "if first_page.status_code != 200:\n",
    "    raise Exception(\"Something went wrong loading category: \" + category + \", error code: \" + first_page.status_code)\n",
    "    \n",
    "html = first_page.text\n",
    "soup = BeautifulSoup(html, 'html.parser')\n",
    "#link_divs = soup.find_all(\"div\", {\"class\": \"moreinfo\"}) #divs with all the links inside them\n",
    "\n",
    "resolutions = int(soup.find(\"strong\", {\"class\": None}).text)\n",
    "\n",
    "if resolutions > 50:\n",
    "    if resolutions%50 == 0:\n",
    "        page_count = (int) (resolutions/50)\n",
    "    else: page_count = int((resolutions/50) + 1)\n",
    "else: page_count = 1\n",
    "\n",
    "for page in range(page_count):\n",
    "    \n",
    "    for div in soup.find_all(\"div\", {\"class\": \"moreinfo\"}):\n",
    "        res_link_suffix = div.find(\"a\")[\"href\"]\n",
    "        resolution_urls.append('https://digitallibrary.un.org' + res_link_suffix)\n",
    "        #print('https://digitallibrary.un.org' + res_link_suffix)\n",
    "    \n",
    "    time.sleep(2)\n",
    "    \n",
    "    #load the next page if you're not already on the last page (0 indexing)\n",
    "    if (page+1 != page_count):\n",
    "        print(page)\n",
    "        next_page_link_suffix = soup.find(\"span\", {\"class\": \"rec-navigation\"}).findAll(\"a\")[-1][\"href\"]\n",
    "        next_page_link = 'https://digitallibrary.un.org' + next_page_link_suffix\n",
    "        print(next_page_link)\n",
    "\n",
    "        np = requests.get(next_page_link)\n",
    "        if np.status_code != 200:\n",
    "            raise Exception(\"Something went wrong loading next page, error code: \" + np.status_code)\n",
    "\n",
    "        html = np.text\n",
    "        soup = BeautifulSoup(html, 'html.parser')\n",
    "        "
   ]
  },
  {
   "cell_type": "code",
   "execution_count": 66,
   "id": "5ff75b4b-df2c-46e2-99f0-329b00b6f545",
   "metadata": {},
   "outputs": [
    {
     "ename": "AttributeError",
     "evalue": "'Response' object has no attribute 'unique'",
     "output_type": "error",
     "traceback": [
      "\u001b[0;31m---------------------------------------------------------------------------\u001b[0m",
      "\u001b[0;31mAttributeError\u001b[0m                            Traceback (most recent call last)",
      "Input \u001b[0;32mIn [66]\u001b[0m, in \u001b[0;36m<module>\u001b[0;34m\u001b[0m\n\u001b[0;32m----> 1\u001b[0m \u001b[38;5;28mlen\u001b[39m(\u001b[43mnp\u001b[49m\u001b[38;5;241;43m.\u001b[39;49m\u001b[43munique\u001b[49m(resolution_urls))\n",
      "\u001b[0;31mAttributeError\u001b[0m: 'Response' object has no attribute 'unique'"
     ]
    }
   ],
   "source": [
    "len(np.unique(resolution_urls))"
   ]
  },
  {
   "cell_type": "code",
   "execution_count": null,
   "id": "70755376-e50c-463f-9ff1-c3bea8001dfd",
   "metadata": {},
   "outputs": [],
   "source": [
    "try:\n",
    "    arr.append(dangerous_could_fail_func)\n",
    "    \n",
    "except:\n",
    "    # ignore the error lol\n",
    "    # print oops died\n",
    "# write arr to the file"
   ]
  }
 ],
 "metadata": {
  "kernelspec": {
   "display_name": "Python 3 (ipykernel)",
   "language": "python",
   "name": "python3"
  },
  "language_info": {
   "codemirror_mode": {
    "name": "ipython",
    "version": 3
   },
   "file_extension": ".py",
   "mimetype": "text/x-python",
   "name": "python",
   "nbconvert_exporter": "python",
   "pygments_lexer": "ipython3",
   "version": "3.9.7"
  }
 },
 "nbformat": 4,
 "nbformat_minor": 5
}
