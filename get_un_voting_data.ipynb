{
 "cells": [
  {
   "cell_type": "markdown",
   "id": "93d3157a-becc-4e0d-8a43-1568da875d0f",
   "metadata": {},
   "source": [
    "**TODO**\n",
    "* get rid of requests we don't use\n",
    "* annotate the code to explain what we're doing and why [tutorial!]\n",
    "* have to explain what broad categories we wanted to analyze and why\n",
    "    * clean up our doc about what categories we want to use and add it to the github, explain why we are only using certain [un] categories for now (most bang for our buck)"
   ]
  },
  {
   "cell_type": "code",
   "execution_count": 12,
   "id": "717d1d6d-d43c-4fc3-a3c6-1cb7ad1980ae",
   "metadata": {},
   "outputs": [],
   "source": [
    "import requests\n",
    "from bs4 import BeautifulSoup\n",
    "import numpy as np\n",
    "import pandas as pd\n",
    "import time\n",
    "import sqlite3\n",
    "\n",
    "\n",
    "import matplotlib.pyplot as plt\n",
    "import datetime\n",
    "import re"
   ]
  },
  {
   "cell_type": "code",
   "execution_count": null,
   "id": "2eff6755-13cf-4fe3-a739-e9e2878a589e",
   "metadata": {},
   "outputs": [],
   "source": [
    "category_links_df = pd.read_csv('category-links.csv')\n",
    "category_links_df\n",
    "\n",
    "visited_categories = []\n",
    "resolution_urls = list()\n",
    "total_resolutions = 0"
   ]
  },
  {
   "cell_type": "code",
   "execution_count": null,
   "id": "00ed82f4-298a-4860-aced-23a159ca6c3c",
   "metadata": {},
   "outputs": [],
   "source": [
    "def get_res_links_from_page(page_link, total_resolutions):\n",
    "    \n",
    "    links = []\n",
    "    \n",
    "    page = requests.get(page_link)\n",
    "    if page.status_code != 200:\n",
    "        raise Exception(\"Something went wrong loading category: \" + category + \", error code: \" + page.status_code)\n",
    "\n",
    "    html = page.text\n",
    "    soup = BeautifulSoup(html, 'html.parser')\n",
    "\n",
    "    resolution_cnt = int(soup.find(\"strong\", {\"class\": None}).text)\n",
    "\n",
    "    if resolution_cnt > 50:\n",
    "        if resolution_cnt%50 == 0:\n",
    "            page_count = (int) (resolution_cnt/50)\n",
    "        else: page_count = int((resolution_cnt/50) + 1)\n",
    "    else: page_count = 1\n",
    "\n",
    "    for page in range(page_count):\n",
    "\n",
    "        for div in soup.find_all(\"div\", {\"class\": \"moreinfo\"}):\n",
    "            res_link_suffix = div.find(\"a\")[\"href\"]\n",
    "            links.append('https://digitallibrary.un.org' + res_link_suffix)\n",
    "\n",
    "        time.sleep(10)\n",
    "\n",
    "        #load the next page if you're not already on the last page (0 indexing)\n",
    "        if (page+1 != page_count):\n",
    "            next_page_link_suffix = soup.find(\"span\", {\"class\": \"rec-navigation\"}).findAll(\"a\")[-1][\"href\"]\n",
    "            next_page_link = 'https://digitallibrary.un.org' + next_page_link_suffix\n",
    "            #print(page)\n",
    "            #print(next_page_link)\n",
    "\n",
    "            page = requests.get(next_page_link)\n",
    "            if page.status_code != 200:\n",
    "                raise Exception(\"Something went wrong loading next page, error code: \" + page.status_code)\n",
    "\n",
    "            html = page.text\n",
    "            soup = BeautifulSoup(html, 'html.parser')\n",
    "            \n",
    "        \n",
    "    if (total_resolutions + resolution_cnt != len(links)):\n",
    "        raise Exception(\"resolution count does not match\")\n",
    "        \n",
    "    return links"
   ]
  },
  {
   "cell_type": "code",
   "execution_count": 1,
   "id": "5ff75b4b-df2c-46e2-99f0-329b00b6f545",
   "metadata": {
    "tags": []
   },
   "outputs": [],
   "source": [
    "## get unique resolutions => THIS DOES NOT WORK????????????\n",
    "# len(np.unique(resolution_urls))\n",
    "\n",
    "#Make resolution_urls unique\n",
    "def unique(list1):\n",
    "    # initialize a null list\n",
    "    unique_list = []\n",
    "     \n",
    "    # traverse for all elements\n",
    "    for x in list1:\n",
    "        # check if exists in unique_list or not\n",
    "        if x not in unique_list:\n",
    "            unique_list.append(x)\n",
    "    return unique_list\n",
    "\n",
    "# ex of function use in next line\n",
    "#unq_res_urls = unique(resolution_urls)"
   ]
  },
  {
   "cell_type": "code",
   "execution_count": null,
   "id": "b4fcd568-effa-4678-b05a-b04c711c8a23",
   "metadata": {
    "tags": []
   },
   "outputs": [],
   "source": [
    "#get the initial website with the categories\n",
    "for cat, link in zip (category_link_df[\"un category\"], category_link_df[\"link\"]):\n",
    "    if (cat not in visited_categories):\n",
    "        try:\n",
    "            cat_res_links = get_res_links_from_page(page_link, total_resolutions) #grab the links, may throw an exception\n",
    "            resolution_urls.extend(cat_res_links) #append the new links list to the bigger old links list\n",
    "            total_resolutions = len(resolution_urls) #update total resolution count for next runthrough\n",
    "            visited_categories.append(cat)\n",
    "        except:\n",
    "            print(\"oh no the UN blocked you maybe :(\")\n",
    "        finally:\n",
    "            time.sleep(3) #delay to hopefully prevent the un from detecting and blocking us\n",
    "\n",
    "\n",
    "unq_res_urls = unique(resolution_urls)\n",
    "\n",
    "#write results to file\n",
    "textfile = open(\"res_links.txt\", \"w\")\n",
    "for res_url in unq_res_urls:\n",
    "    textfile.write(res_url + \"\\n\")\n",
    "textfile.close()"
   ]
  },
  {
   "cell_type": "code",
   "execution_count": null,
   "id": "91104853",
   "metadata": {},
   "outputs": [],
   "source": [
    "#Get vote data from each resolution\n",
    "\n",
    "#resolution df (x= resolution index, y = name, year)\n",
    "#country_votes df (row = country, col= resolution index) row,col = vote\n",
    "\n",
    "for res_url in unq_res_urls:\n",
    "    res_page = requests.get(res_url)\n",
    "    if res_page.status_code != 200:\n",
    "        raise Exception(\"Something went wrong loading resolution, error code: \" + res_page.status_code)\n",
    "        \n",
    "    html = res_page.text\n",
    "    soup = BeautifulSoup(html, 'html.parser')\n",
    "\n",
    "    metadata = soup.find_all(\"span\", {\"class\": \"value col-xs-12 col-sm-9 col-md-10\"})\n",
    "\n",
    "    #number of metadata sections changes from resolution to resolution, so start counting from bottom for some\n",
    "    res_title = metadata[0] \n",
    "    #res_title.text\n",
    "    vote_summary = metadata[len(metadata) -4]\n",
    "    vote_date = metadata[len(metadata) -3]\n",
    "    vote = metadata[len(metadata) -2]\n",
    "    time.sleep(10) #can change later\n",
    "    \n",
    "    #STORE THIS INFO IN DF EACH TIME"
   ]
  },
  {
   "cell_type": "code",
   "execution_count": 19,
   "id": "3f74f416-c401-4f3e-91b9-20308d513d83",
   "metadata": {},
   "outputs": [
    {
     "ename": "OperationalError",
     "evalue": "table voting_data already exists",
     "output_type": "error",
     "traceback": [
      "\u001b[0;31m---------------------------------------------------------------------------\u001b[0m",
      "\u001b[0;31mOperationalError\u001b[0m                          Traceback (most recent call last)",
      "Input \u001b[0;32mIn [19]\u001b[0m, in \u001b[0;36m<module>\u001b[0;34m\u001b[0m\n\u001b[1;32m      1\u001b[0m conn \u001b[38;5;241m=\u001b[39m sqlite3\u001b[38;5;241m.\u001b[39mconnect(\u001b[38;5;124m\"\u001b[39m\u001b[38;5;124mres_data.db\u001b[39m\u001b[38;5;124m\"\u001b[39m)\n\u001b[1;32m      2\u001b[0m cursor \u001b[38;5;241m=\u001b[39m conn\u001b[38;5;241m.\u001b[39mcursor()\n\u001b[0;32m----> 4\u001b[0m \u001b[43mcursor\u001b[49m\u001b[38;5;241;43m.\u001b[39;49m\u001b[43mexecute\u001b[49m\u001b[43m(\u001b[49m\u001b[38;5;124;43m\"\"\"\u001b[39;49m\n\u001b[1;32m      5\u001b[0m \u001b[38;5;124;43m    CREATE TABLE voting_data (\u001b[39;49m\n\u001b[1;32m      6\u001b[0m \u001b[38;5;124;43m        country TEXT PRIMARY KEY,\u001b[39;49m\n\u001b[1;32m      7\u001b[0m \u001b[38;5;124;43m        resolution_id TEXT\u001b[39;49m\n\u001b[1;32m      8\u001b[0m \u001b[38;5;124;43m    )\u001b[39;49m\u001b[38;5;124;43m\"\"\"\u001b[39;49m\u001b[43m)\u001b[49m\n",
      "\u001b[0;31mOperationalError\u001b[0m: table voting_data already exists"
     ]
    }
   ],
   "source": [
    "conn = sqlite3.connect(\"res_data.db\")\n",
    "cursor = conn.cursor()\n",
    "\n",
    "cursor.execute(\"\"\"\n",
    "    CREATE TABLE voting_data (\n",
    "        country TEXT PRIMARY KEY,\n",
    "        resolution_id TEXT\n",
    "    )\"\"\")"
   ]
  },
  {
   "cell_type": "code",
   "execution_count": 39,
   "id": "b84e65b2-5dde-467f-ac50-a104080c17a7",
   "metadata": {},
   "outputs": [
    {
     "name": "stdout",
     "output_type": "stream",
     "text": [
      "Vote\n",
      "Vote\n",
      "Vote\n",
      "Vote\n",
      "Vote\n",
      "Vote\n",
      "Vote\n",
      "Vote\n",
      "Vote\n",
      "Vote\n"
     ]
    },
    {
     "data": {
      "text/plain": [
       "<span class=\"value col-xs-12 col-sm-9 col-md-10\">Y AFGHANISTAN<br/> N ALBANIA<br/> A ALGERIA<br/> A ARGENTINA<br/> Y AUSTRALIA<br/> Y AUSTRIA<br/> Y BARBADOS<br/> Y BELGIUM<br/> Y BOLIVIA<br/> Y BOTSWANA<br/> A BRAZIL<br/> Y BULGARIA<br/> A BURMA<br/> A BURUNDI<br/> Y BYELORUSSIAN SSR<br/>  CAMBODIA<br/> Y CAMEROON<br/> Y CANADA<br/> A CENTRAL AFRICAN REPUBLIC<br/> Y CEYLON<br/> Y CHAD<br/> Y CHILE<br/> Y CHINA<br/> Y COLOMBIA<br/> A CONGO (BRAZZAVILLE)<br/> Y CONGO (LEOPOLDVILLE)<br/> Y COSTA RICA<br/> N CUBA<br/> Y CYPRUS<br/> Y CZECHOSLOVAKIA<br/> Y DAHOMEY<br/> Y DENMARK<br/>  DOMINICAN REPUBLIC<br/> Y ECUADOR<br/> Y EL SALVADOR<br/> Y ETHIOPIA<br/> Y FINLAND<br/> A FRANCE<br/> A GABON<br/>  GAMBIA<br/> Y GHANA<br/> Y GREECE<br/> Y GUATEMALA<br/> A GUINEA<br/> Y GUYANA<br/>  HAITI<br/> Y HONDURAS<br/> Y HUNGARY<br/> Y ICELAND<br/> A INDIA<br/> Y INDONESIA<br/> Y IRAN<br/> Y IRAQ<br/> Y IRELAND<br/> Y ISRAEL<br/> Y ITALY<br/> Y IVORY COAST<br/> Y JAMAICA<br/> Y JAPAN<br/> Y JORDAN<br/> Y KENYA<br/> Y KUWAIT<br/> Y LAOS<br/> Y LEBANON<br/> Y LESOTHO<br/> Y LIBERIA<br/> Y LIBYA<br/> Y LUXEMBOURG<br/> Y MADAGASCAR<br/> A MALAWI<br/> Y MALAYSIA<br/> Y MALDIVE ISLANDS<br/> A MALI<br/> Y MALTA<br/> A MAURITANIA<br/> Y MAURITIUS<br/> Y MEXICO<br/> Y MONGOLIA<br/> Y MOROCCO<br/> Y NEPAL<br/> Y NETHERLANDS<br/> Y NEW ZEALAND<br/> Y NICARAGUA<br/> A NIGER<br/> Y NIGERIA<br/> Y NORWAY<br/> Y PAKISTAN<br/> Y PANAMA<br/> Y PARAGUAY<br/> Y PERU<br/> Y PHILIPPINES<br/> Y POLAND<br/> A PORTUGAL<br/> Y ROMANIA<br/> A RWANDA<br/> A SAUDI ARABIA<br/> Y SENEGAL<br/> A SIERRA LEONE<br/> Y SINGAPORE<br/> Y SOMALIA<br/> Y SOUTH AFRICA<br/> Y SOUTHERN YEMEN<br/> A SPAIN<br/> Y SUDAN<br/> Y SWEDEN<br/> Y SYRIA<br/> Y THAILAND<br/> Y TOGO<br/> Y TRINIDAD AND TOBAGO<br/> Y TUNISIA<br/> Y TURKEY<br/> A UGANDA<br/> Y UKRAINIAN SSR<br/> Y USSR<br/> Y UNITED ARAB REPUBLIC<br/> Y UNITED KINGDOM<br/> N UNITED REPUBLIC OF TANZANIA<br/> Y UNITED STATES<br/> Y UPPER VOLTA<br/> Y URUGUAY<br/> Y VENEZUELA<br/> Y YEMEN<br/> Y YUGOSLAVIA<br/> N ZAMBIA</span>"
      ]
     },
     "execution_count": 39,
     "metadata": {},
     "output_type": "execute_result"
    }
   ],
   "source": [
    "res_page = requests.get('https://digitallibrary.un.org/record/671966?ln=en')\n",
    "if res_page.status_code != 200:\n",
    "    raise Exception(\"Something went wrong loading resolution, error code: \" + res_page.status_code)\n",
    "\n",
    "html = res_page.text\n",
    "soup = BeautifulSoup(html, 'html.parser')\n",
    "\n",
    "metadata = soup.find(\"div\", {\"id\" : \"details-collapse\"})\n",
    "#metadata\n",
    "\n",
    "#checking to make sure the vote was recorded\n",
    "# we only care about recorded votes since they allow us to track how countries change their views over time\n",
    "row_content_meta = metadata.find_all(\"span\", {\"class\" : \"value col-xs-12 col-sm-9 col-md-10\"})\n",
    "recorded_vote = [False if 'NON-RECORDED' in row.get_text() else True for row in row_content_meta]\n",
    "\n",
    "rows = metadata.find_all(\"div\", {\"class\" : \"metadata-row\"})\n",
    "\n",
    "title = \"\"\n",
    "res_id = \"\"\n",
    "date = \"\"\n",
    "vote_table = \"\"\n",
    "\n",
    "if False not in recorded_vote:\n",
    "\n",
    "    for row in rows:\n",
    "        row_title = rows[-2].find(\"span\", {\"class\" : \"title col-xs-12 col-sm-3 col-md-2\"}).text\n",
    "        row_value = rows[-2].find(\"span\", {\"class\" : \"value col-xs-12 col-sm-9 col-md-10\"})\n",
    "        \n",
    "        #strip newline chars from the string\n",
    "        row_title = row_title.strip()\n",
    "        \n",
    "        if row_title == 'Title':\n",
    "            title = row_value.text\n",
    "        elif row_title == 'Resolution':\n",
    "            res_id = row_value.text\n",
    "        elif row_title == 'Vote date':\n",
    "            date = row_value.text\n",
    "        elif row_title == 'Vote':\n",
    "            vote_table = row_value\n",
    "            # save the html to add country individual vote data to voting db\n",
    "            # iterate through br's to do this more easily\n",
    "\n",
    "    \n",
    "    ## now that you have the resolution id, put that as the \n",
    "            \n",
    "row_value"
   ]
  },
  {
   "cell_type": "code",
   "execution_count": 18,
   "id": "88ebc4cc-938d-4b9f-b1b1-fa3facc28b6b",
   "metadata": {},
   "outputs": [],
   "source": [
    "conn.close()"
   ]
  },
  {
   "cell_type": "code",
   "execution_count": null,
   "id": "01fe5fde-28fa-4814-a780-5b690524fd29",
   "metadata": {},
   "outputs": [],
   "source": []
  }
 ],
 "metadata": {
  "kernelspec": {
   "display_name": "Python 3 (ipykernel)",
   "language": "python",
   "name": "python3"
  },
  "language_info": {
   "codemirror_mode": {
    "name": "ipython",
    "version": 3
   },
   "file_extension": ".py",
   "mimetype": "text/x-python",
   "name": "python",
   "nbconvert_exporter": "python",
   "pygments_lexer": "ipython3",
   "version": "3.9.7"
  }
 },
 "nbformat": 4,
 "nbformat_minor": 5
}
