{
 "cells": [
  {
   "cell_type": "markdown",
   "id": "93d3157a-becc-4e0d-8a43-1568da875d0f",
   "metadata": {},
   "source": [
    "**TODO**\n",
    "* get rid of requests we don't use\n",
    "* annotate the code to explain what we're doing and why [tutorial!]\n",
    "* have to explain what broad categories we wanted to analyze and why\n",
    "    * clean up our doc about what categories we want to use and add it to the github, explain why we are only using certain [un] categories for now (most bang for our buck)"
   ]
  },
  {
   "cell_type": "code",
   "execution_count": 44,
   "id": "717d1d6d-d43c-4fc3-a3c6-1cb7ad1980ae",
   "metadata": {},
   "outputs": [],
   "source": [
    "import requests\n",
    "from bs4 import BeautifulSoup\n",
    "import numpy as np\n",
    "import pandas as pd\n",
    "\n",
    "\n",
    "import matplotlib.pyplot as plt\n",
    "import datetime\n",
    "import re"
   ]
  },
  {
   "cell_type": "code",
   "execution_count": 62,
   "id": "2eff6755-13cf-4fe3-a739-e9e2878a589e",
   "metadata": {},
   "outputs": [],
   "source": [
    "category_links_df = pd.read_csv('category-links.csv')\n",
    "category_links_df\n",
    "\n",
    "resolution_urls = []\n",
    "visited_categories = []"
   ]
  },
  {
   "cell_type": "raw",
   "id": "f1cbbfec-b604-4ea4-b812-cf4858024b49",
   "metadata": {},
   "source": [
    "# get the initial website with the categories\n",
    "for cat, link in zip (category_links_df[\"un category\"], category_links_df[\"link\"]):\n",
    "    first_page = requests.get(link)\n",
    "    if first_page.status_code != 200:\n",
    "        raise Exception(\"Something went wrong loading category: \" + category + \", error code: \" + first_page.status_code)\n",
    "    \n",
    "    html = first_page.text\n",
    "    soup = BeautifulSoup(html, 'html.parser')\n",
    "    \n",
    "    page_count = "
   ]
  },
  {
   "cell_type": "code",
   "execution_count": 81,
   "id": "2dbc4ea5-2759-4d2f-bab8-334e94fd4a61",
   "metadata": {
    "tags": []
   },
   "outputs": [
    {
     "name": "stdout",
     "output_type": "stream",
     "text": [
      "https://digitallibrary.un.org/record/3951465?ln=en\n",
      "https://digitallibrary.un.org/record/3951464?ln=en\n",
      "https://digitallibrary.un.org/record/3951463?ln=en\n",
      "https://digitallibrary.un.org/record/3951462?ln=en\n",
      "https://digitallibrary.un.org/record/3951461?ln=en\n",
      "https://digitallibrary.un.org/record/3951460?ln=en\n",
      "https://digitallibrary.un.org/record/3951459?ln=en\n",
      "https://digitallibrary.un.org/record/3951456?ln=en\n",
      "https://digitallibrary.un.org/record/3894869?ln=en\n",
      "https://digitallibrary.un.org/record/3894868?ln=en\n",
      "https://digitallibrary.un.org/record/3894866?ln=en\n",
      "https://digitallibrary.un.org/record/3894848?ln=en\n",
      "https://digitallibrary.un.org/record/3894847?ln=en\n",
      "https://digitallibrary.un.org/record/3894846?ln=en\n",
      "https://digitallibrary.un.org/record/3894843?ln=en\n",
      "https://digitallibrary.un.org/record/3840132?ln=en\n",
      "https://digitallibrary.un.org/record/3840127?ln=en\n",
      "https://digitallibrary.un.org/record/3840124?ln=en\n",
      "https://digitallibrary.un.org/record/3840123?ln=en\n",
      "https://digitallibrary.un.org/record/3840122?ln=en\n",
      "https://digitallibrary.un.org/record/3840121?ln=en\n",
      "https://digitallibrary.un.org/record/3840120?ln=en\n",
      "https://digitallibrary.un.org/record/1656171?ln=en\n",
      "https://digitallibrary.un.org/record/1656170?ln=en\n",
      "https://digitallibrary.un.org/record/1656169?ln=en\n",
      "https://digitallibrary.un.org/record/1656168?ln=en\n",
      "https://digitallibrary.un.org/record/1656162?ln=en\n",
      "https://digitallibrary.un.org/record/1656161?ln=en\n",
      "https://digitallibrary.un.org/record/1656160?ln=en\n",
      "https://digitallibrary.un.org/record/1656158?ln=en\n",
      "https://digitallibrary.un.org/record/1656157?ln=en\n",
      "https://digitallibrary.un.org/record/1479518?ln=en\n",
      "https://digitallibrary.un.org/record/1327569?ln=en\n",
      "https://digitallibrary.un.org/record/1327568?ln=en\n",
      "https://digitallibrary.un.org/record/1327567?ln=en\n",
      "https://digitallibrary.un.org/record/1327566?ln=en\n",
      "https://digitallibrary.un.org/record/1327557?ln=en\n",
      "https://digitallibrary.un.org/record/1327554?ln=en\n",
      "https://digitallibrary.un.org/record/1327551?ln=en\n",
      "https://digitallibrary.un.org/record/1327549?ln=en\n",
      "https://digitallibrary.un.org/record/1327545?ln=en\n",
      "https://digitallibrary.un.org/record/1327544?ln=en\n",
      "https://digitallibrary.un.org/record/855231?ln=en\n",
      "https://digitallibrary.un.org/record/855228?ln=en\n",
      "https://digitallibrary.un.org/record/855216?ln=en\n",
      "https://digitallibrary.un.org/record/855197?ln=en\n",
      "https://digitallibrary.un.org/record/855187?ln=en\n",
      "https://digitallibrary.un.org/record/855184?ln=en\n",
      "https://digitallibrary.un.org/record/855172?ln=en\n",
      "https://digitallibrary.un.org/record/827221?ln=en\n"
     ]
    }
   ],
   "source": [
    "first_page = requests.get(category_links_df[\"link\"][0])\n",
    "if first_page.status_code != 200:\n",
    "    raise Exception(\"Something went wrong loading category: \" + category + \", error code: \" + first_page.status_code)\n",
    "    \n",
    "html = first_page.text\n",
    "soup = BeautifulSoup(html, 'html.parser')\n",
    "link_divs = soup.find_all(\"div\", {\"class\": \"moreinfo\"}) #divs with all the links inside them\n",
    "\n",
    "#page_count = NEED TO GET THIS FROM BEAUTIFUL SOUP\n",
    " \n",
    "#for page in page_count:\n",
    "    for div in soup.find_all(\"div\", {\"class\": \"moreinfo\"}):\n",
    "        link_suffix = div.find(\"a\")[\"href\"]\n",
    "        resolution_urls.append('https://digitallibrary.un.org' + link_suffix)\n",
    "        #print('https://digitallibrary.un.org' + link_suffix)\n",
    "    \n",
    "    #pause for like two seconds\n",
    "    #load the next page"
   ]
  },
  {
   "cell_type": "code",
   "execution_count": 78,
   "id": "15c37a06-dc94-44be-acf0-1f5c1839c7ce",
   "metadata": {},
   "outputs": [
    {
     "ename": "AttributeError",
     "evalue": "'<class 'bs4.element.Tag'>' object has no attribute '__attr__'",
     "output_type": "error",
     "traceback": [
      "\u001b[0;31m---------------------------------------------------------------------------\u001b[0m",
      "\u001b[0;31mAttributeError\u001b[0m                            Traceback (most recent call last)",
      "Input \u001b[0;32mIn [78]\u001b[0m, in \u001b[0;36m<module>\u001b[0;34m\u001b[0m\n\u001b[0;32m----> 1\u001b[0m \u001b[43mlink_divs\u001b[49m\u001b[43m[\u001b[49m\u001b[38;5;241;43m0\u001b[39;49m\u001b[43m]\u001b[49m\u001b[38;5;241;43m.\u001b[39;49m\u001b[43mfind\u001b[49m\u001b[43m(\u001b[49m\u001b[38;5;124;43m\"\u001b[39;49m\u001b[38;5;124;43mspan\u001b[39;49m\u001b[38;5;124;43m\"\u001b[39;49m\u001b[43m)\u001b[49m\u001b[38;5;241;43m.\u001b[39;49m\u001b[43mfindAll\u001b[49m\u001b[43m(\u001b[49m\u001b[38;5;124;43m\"\u001b[39;49m\u001b[38;5;124;43ma\u001b[39;49m\u001b[38;5;124;43m\"\u001b[39;49m\u001b[43m)\u001b[49m\u001b[43m[\u001b[49m\u001b[38;5;241;43m0\u001b[39;49m\u001b[43m]\u001b[49m\u001b[38;5;241;43m.\u001b[39;49m\u001b[43m__attr__\u001b[49m()\n",
      "File \u001b[0;32m/opt/conda/lib/python3.9/site-packages/bs4/element.py:1533\u001b[0m, in \u001b[0;36mTag.__getattr__\u001b[0;34m(self, tag)\u001b[0m\n\u001b[1;32m   1531\u001b[0m \u001b[38;5;28;01melif\u001b[39;00m \u001b[38;5;129;01mnot\u001b[39;00m tag\u001b[38;5;241m.\u001b[39mstartswith(\u001b[38;5;124m\"\u001b[39m\u001b[38;5;124m__\u001b[39m\u001b[38;5;124m\"\u001b[39m) \u001b[38;5;129;01mand\u001b[39;00m \u001b[38;5;129;01mnot\u001b[39;00m tag \u001b[38;5;241m==\u001b[39m \u001b[38;5;124m\"\u001b[39m\u001b[38;5;124mcontents\u001b[39m\u001b[38;5;124m\"\u001b[39m:\n\u001b[1;32m   1532\u001b[0m     \u001b[38;5;28;01mreturn\u001b[39;00m \u001b[38;5;28mself\u001b[39m\u001b[38;5;241m.\u001b[39mfind(tag)\n\u001b[0;32m-> 1533\u001b[0m \u001b[38;5;28;01mraise\u001b[39;00m \u001b[38;5;167;01mAttributeError\u001b[39;00m(\n\u001b[1;32m   1534\u001b[0m     \u001b[38;5;124m\"\u001b[39m\u001b[38;5;124m'\u001b[39m\u001b[38;5;132;01m%s\u001b[39;00m\u001b[38;5;124m'\u001b[39m\u001b[38;5;124m object has no attribute \u001b[39m\u001b[38;5;124m'\u001b[39m\u001b[38;5;132;01m%s\u001b[39;00m\u001b[38;5;124m'\u001b[39m\u001b[38;5;124m\"\u001b[39m \u001b[38;5;241m%\u001b[39m (\u001b[38;5;28mself\u001b[39m\u001b[38;5;241m.\u001b[39m\u001b[38;5;18m__class__\u001b[39m, tag))\n",
      "\u001b[0;31mAttributeError\u001b[0m: '<class 'bs4.element.Tag'>' object has no attribute '__attr__'"
     ]
    }
   ],
   "source": [
    "link_divs[0].find(\"span\").findAll(\"a\")[0]"
   ]
  },
  {
   "cell_type": "code",
   "execution_count": null,
   "id": "70755376-e50c-463f-9ff1-c3bea8001dfd",
   "metadata": {},
   "outputs": [],
   "source": [
    "try:\n",
    "    arr.append(dangerous_could_fail_func)\n",
    "    \n",
    "except:\n",
    "    # ignore the error lol\n",
    "    # print oops died\n",
    "# write arr to the file"
   ]
  }
 ],
 "metadata": {
  "kernelspec": {
   "display_name": "Python 3 (ipykernel)",
   "language": "python",
   "name": "python3"
  },
  "language_info": {
   "codemirror_mode": {
    "name": "ipython",
    "version": 3
   },
   "file_extension": ".py",
   "mimetype": "text/x-python",
   "name": "python",
   "nbconvert_exporter": "python",
   "pygments_lexer": "ipython3",
   "version": "3.9.7"
  }
 },
 "nbformat": 4,
 "nbformat_minor": 5
}
