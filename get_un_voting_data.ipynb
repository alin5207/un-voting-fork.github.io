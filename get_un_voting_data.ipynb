{
 "cells": [
  {
   "cell_type": "markdown",
   "id": "93d3157a-becc-4e0d-8a43-1568da875d0f",
   "metadata": {},
   "source": [
    "**TODO**\n",
    "* get rid of requests we don't use\n",
    "* annotate the code to explain what we're doing and why [tutorial!]\n",
    "* have to explain what broad categories we wanted to analyze and why\n",
    "    * clean up our doc about what categories we want to use and add it to the github, explain why we are only using certain [un] categories for now (most bang for our buck)"
   ]
  },
  {
   "cell_type": "code",
   "execution_count": null,
   "id": "717d1d6d-d43c-4fc3-a3c6-1cb7ad1980ae",
   "metadata": {},
   "outputs": [],
   "source": [
    "import requests\n",
    "from bs4 import BeautifulSoup\n",
    "import numpy as np\n",
    "import pandas as pd\n",
    "\n",
    "\n",
    "import matplotlib.pyplot as plt\n",
    "import datetime\n",
    "import re"
   ]
  },
  {
   "cell_type": "code",
   "execution_count": null,
   "id": "2eff6755-13cf-4fe3-a739-e9e2878a589e",
   "metadata": {},
   "outputs": [],
   "source": [
    "category_links_df = pd.read_csv('category-links.csv')\n",
    "category_links_df\n",
    "\n",
    "resolution_urls = []\n",
    "visited_categories = []"
   ]
  },
  {
   "cell_type": "raw",
   "id": "f1cbbfec-b604-4ea4-b812-cf4858024b49",
   "metadata": {},
   "source": [
    "# get the initial website with the categories\n",
    "for cat, link in zip (category_links_df[\"un category\"], category_links_df[\"link\"]):\n",
    "    first_page = requests.get(link)\n",
    "    if first_page.status_code != 200:\n",
    "        raise Exception(\"Something went wrong loading category: \" + category + \", error code: \" + first_page.status_code)\n",
    "    \n",
    "    html = first_page.text\n",
    "    soup = BeautifulSoup(html, 'html.parser')\n",
    "    \n",
    "    page_count = "
   ]
  },
  {
   "cell_type": "markdown",
   "id": "6c1e38a4",
   "metadata": {},
   "source": []
  },
  {
   "cell_type": "code",
   "execution_count": null,
   "id": "2dbc4ea5-2759-4d2f-bab8-334e94fd4a61",
   "metadata": {
    "tags": []
   },
   "outputs": [],
   "source": [
    "first_page = requests.get(category_links_df[\"link\"][0])\n",
    "if first_page.status_code != 200:\n",
    "    raise Exception(\"Something went wrong loading category: \" + category + \", error code: \" + first_page.status_code)\n",
    "    \n",
    "html = first_page.text\n",
    "soup = BeautifulSoup(html, 'html.parser')\n",
    "link_divs = soup.find_all(\"div\", {\"class\": \"moreinfo\"}) #divs with all the links inside them\n",
    "\n",
    "# page_count = NEED TO GET THIS FROM BEAUTIFUL SOUP\n",
    "\n",
    "# entries = soup.find()\n",
    "# if > 50 entries\n",
    "#     if entries%50 == 0\n",
    "#         page_count = entries/50\n",
    "#     else page_count = (entries/50) + 1\n",
    "# else page_count = 1\n",
    "\n",
    "#LINK TO NEXT PAGE can do this multiple times i believe so i think it can go in loop\n",
    "nextp_links = soup.find('span', {'class': 'rec-navigation'})\n",
    "next_page = nextp_link[0].a.get('href')\n",
    " \n",
    "for page in page_count:\n",
    "    \n",
    "    for div in soup.find_all(\"div\", {\"class\": \"moreinfo\"}):\n",
    "        for span in div.find(\"span\"):  \n",
    "            #this only gets the first span which we want -> there are two but the second span is irrelevant\n",
    "            \n",
    "            #print(span)\n",
    "            a = span.find_all('a', {\"class\": \"moreinfo\"})\n",
    "            print(a) #returning None ???\n",
    "            #print(a[\"href\"], a.get_text())\n",
    "            \n",
    "            #having trouble getting the a's from the span tag? need to get href's from the a tag? \n",
    "\n",
    "            \n",
    "            #link_suffix = need to get the end link from the href inside the a tag\n",
    "            \n",
    "            resolution_urls.append('https://digitallibrary.un.org' + link_suffix)\n",
    "            \n",
    "    #load the next page   "
   ]
  },
  {
   "cell_type": "code",
   "execution_count": null,
   "id": "70755376-e50c-463f-9ff1-c3bea8001dfd",
   "metadata": {},
   "outputs": [],
   "source": [
    "try:\n",
    "    arr.append(dangerous_could_fail_func)\n",
    "    \n",
    "except:\n",
    "    # ignore the error lol\n",
    "    # print oops died\n",
    "# write arr to the file"
   ]
  }
 ],
 "metadata": {
  "kernelspec": {
   "display_name": "Python 3 (ipykernel)",
   "language": "python",
   "name": "python3"
  },
  "language_info": {
   "codemirror_mode": {
    "name": "ipython",
    "version": 3
   },
   "file_extension": ".py",
   "mimetype": "text/x-python",
   "name": "python",
   "nbconvert_exporter": "python",
   "pygments_lexer": "ipython3",
   "version": "3.8.10"
  }
 },
 "nbformat": 4,
 "nbformat_minor": 5
}
